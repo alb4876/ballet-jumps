{
 "cells": [
  {
   "cell_type": "code",
   "execution_count": null,
   "metadata": {},
   "outputs": [],
   "source": [
    "# DGMD-14 Final Project \n",
    "# Determining Ballet Moves using Machine Learning\n",
    "# GROUP NAME: The Eastenders\n",
    "# NAMES: Ana Nystedt, Allyson Bieryla, Devesh Bhor"
   ]
  },
  {
   "cell_type": "code",
   "execution_count": 2,
   "metadata": {},
   "outputs": [],
   "source": [
    "# Setup\n",
    "import pandas as pd\n",
    "import numpy as np\n",
    "import matplotlib.pyplot as plt"
   ]
  },
  {
   "cell_type": "code",
   "execution_count": 9,
   "metadata": {},
   "outputs": [
    {
     "name": "stdout",
     "output_type": "stream",
     "text": [
      "                        Date  HostTimestamp         NodeName  NodeTimestamp  \\\n",
      "0    22/07/2020 10:57:40.531         680415  AM1V310 @394D30          87056   \n",
      "1    22/07/2020 10:57:40.531         680415  AM1V310 @394D30          87056   \n",
      "2    22/07/2020 10:57:40.531         680416  AM1V310 @394D30          87056   \n",
      "3    22/07/2020 10:57:40.579         680453  AM1V310 @394D30          87060   \n",
      "4    22/07/2020 10:57:40.579         680453  AM1V310 @394D30          87060   \n",
      "..                       ...            ...              ...            ...   \n",
      "457  22/07/2020 10:57:45.080         684955  AM1V310 @394D30          87626   \n",
      "458  22/07/2020 10:57:45.080         684955  AM1V310 @394D30          87626   \n",
      "459  22/07/2020 10:57:45.109         684983  AM1V310 @394D30          87630   \n",
      "460  22/07/2020 10:57:45.109         684983  AM1V310 @394D30          87630   \n",
      "461  22/07/2020 10:57:45.109         684983  AM1V310 @394D30          87630   \n",
      "\n",
      "          RawData      qi      qj      qk        qs  \n",
      "0    0900A204970E  0.0009  0.1186  0.3735  0.920017  \n",
      "1    1200A104980E  0.0018  0.1185  0.3736  0.919988  \n",
      "2    0E00A104980E  0.0014  0.1185  0.3736  0.919988  \n",
      "3    1D00A1049B0E  0.0029  0.1185  0.3739  0.919863  \n",
      "4    1600A104990E  0.0022  0.1185  0.3737  0.919946  \n",
      "..            ...     ...     ...     ...       ...  \n",
      "457   1.20269E+11  0.0530  0.1641  0.4679  0.866794  \n",
      "458   1.90255E+11  0.0537  0.1621  0.4660  0.868150  \n",
      "459  04028A066212  0.0516  0.1674  0.4706  0.864783  \n",
      "460  0E0273065012  0.0526  0.1651  0.4688  0.866142  \n",
      "461  09027E065912  0.0521  0.1662  0.4697  0.865474  \n",
      "\n",
      "[462 rows x 9 columns]\n"
     ]
    }
   ],
   "source": [
    "# Import CSV data\n",
    "df = pd.read_csv('single-jump.csv') \n",
    "print(df)"
   ]
  },
  {
   "cell_type": "code",
   "execution_count": 13,
   "metadata": {},
   "outputs": [
    {
     "name": "stdout",
     "output_type": "stream",
     "text": [
      "0      0.0009\n",
      "1      0.0018\n",
      "2      0.0014\n",
      "3      0.0029\n",
      "4      0.0022\n",
      "        ...  \n",
      "457    0.0530\n",
      "458    0.0537\n",
      "459    0.0516\n",
      "460    0.0526\n",
      "461    0.0521\n",
      "Name: qi, Length: 462, dtype: float64\n"
     ]
    }
   ],
   "source": [
    "# select certain columns\n",
    "print(df.qi)"
   ]
  },
  {
   "cell_type": "code",
   "execution_count": 18,
   "metadata": {},
   "outputs": [
    {
     "data": {
      "text/plain": [
       "[<matplotlib.lines.Line2D at 0x120582390>]"
      ]
     },
     "execution_count": 18,
     "metadata": {},
     "output_type": "execute_result"
    },
    {
     "data": {
      "image/png": "[encoded data removed]",
      "text/plain": [
       "<Figure size 432x288 with 1 Axes>"
      ]
     },
     "metadata": {},
     "output_type": "display_data"
    }
   ],
   "source": [
    "# try plot\n",
    "from matplotlib import style\n",
    "style.use(\"ggplot\")\n",
    "\n",
    "plt.plot(df.qi)\n",
    "plt.plot(df.qj)\n",
    "plt.plot(df.qk)\n",
    "plt.plot(df.qs)\n"
   ]
  },
  {
   "cell_type": "code",
   "execution_count": null,
   "metadata": {},
   "outputs": [],
   "source": []
  }
 ],
 "metadata": {
  "kernelspec": {
   "display_name": "Python 3",
   "language": "python",
   "name": "python3"
  },
  "language_info": {
   "codemirror_mode": {
    "name": "ipython",
    "version": 3
   },
   "file_extension": ".py",
   "mimetype": "text/x-python",
   "name": "python",
   "nbconvert_exporter": "python",
   "pygments_lexer": "ipython3",
   "version": "3.7.7"
  }
 },
 "nbformat": 4,
 "nbformat_minor": 4
}
